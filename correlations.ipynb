{
 "cells": [
  {
   "cell_type": "code",
   "execution_count": 11,
   "id": "c15f7cfd",
   "metadata": {},
   "outputs": [],
   "source": [
    "import pandas as pd\n",
    "import numpy as np\n",
    "import matplotlib as plt\n",
    "import seaborn as sns\n",
    "from scipy.stats import pearsonr, spearmanr"
   ]
  },
  {
   "cell_type": "code",
   "execution_count": 4,
   "id": "b082d090",
   "metadata": {},
   "outputs": [],
   "source": [
    "df = pd.read_csv('Absenteeism_at_work.tsv')"
   ]
  },
  {
   "cell_type": "code",
   "execution_count": null,
   "id": "003541de",
   "metadata": {},
   "outputs": [],
   "source": []
  },
  {
   "cell_type": "code",
   "execution_count": 5,
   "id": "2bcb327b",
   "metadata": {},
   "outputs": [
    {
     "data": {
      "text/html": [
       "<div>\n",
       "<style scoped>\n",
       "    .dataframe tbody tr th:only-of-type {\n",
       "        vertical-align: middle;\n",
       "    }\n",
       "\n",
       "    .dataframe tbody tr th {\n",
       "        vertical-align: top;\n",
       "    }\n",
       "\n",
       "    .dataframe thead th {\n",
       "        text-align: right;\n",
       "    }\n",
       "</style>\n",
       "<table border=\"1\" class=\"dataframe\">\n",
       "  <thead>\n",
       "    <tr style=\"text-align: right;\">\n",
       "      <th></th>\n",
       "      <th>ID\\tReason for absence\\tMonth of absence\\tDay of the week\\tSeasons\\tTransportation expense\\tDistance from Residence to Work\\tService time\\tAge\\tWork load Average/day \\tHit target\\tDisciplinary failure\\tEducation\\tSon\\tSocial drinker\\tSocial smoker\\tPet\\tWeight\\tHeight\\tBody mass index\\tAbsenteeism time in hours</th>\n",
       "    </tr>\n",
       "  </thead>\n",
       "  <tbody>\n",
       "    <tr>\n",
       "      <th>0</th>\n",
       "      <td>11\\t26\\t7\\t3\\t1\\t289\\t36\\t13\\t33\\t239.554\\t97\\...</td>\n",
       "    </tr>\n",
       "    <tr>\n",
       "      <th>1</th>\n",
       "      <td>36\\t0\\t7\\t3\\t1\\t118\\t13\\t18\\t50\\t239.554\\t97\\t...</td>\n",
       "    </tr>\n",
       "    <tr>\n",
       "      <th>2</th>\n",
       "      <td>3\\t23\\t7\\t4\\t1\\t179\\t51\\t18\\t38\\t239.554\\t97\\t...</td>\n",
       "    </tr>\n",
       "    <tr>\n",
       "      <th>3</th>\n",
       "      <td>7\\t7\\t7\\t5\\t1\\t279\\t5\\t14\\t39\\t239.554\\t97\\t0\\...</td>\n",
       "    </tr>\n",
       "    <tr>\n",
       "      <th>4</th>\n",
       "      <td>11\\t23\\t7\\t5\\t1\\t289\\t36\\t13\\t33\\t239.554\\t97\\...</td>\n",
       "    </tr>\n",
       "  </tbody>\n",
       "</table>\n",
       "</div>"
      ],
      "text/plain": [
       "  ID\\tReason for absence\\tMonth of absence\\tDay of the week\\tSeasons\\tTransportation expense\\tDistance from Residence to Work\\tService time\\tAge\\tWork load Average/day \\tHit target\\tDisciplinary failure\\tEducation\\tSon\\tSocial drinker\\tSocial smoker\\tPet\\tWeight\\tHeight\\tBody mass index\\tAbsenteeism time in hours\n",
       "0  11\\t26\\t7\\t3\\t1\\t289\\t36\\t13\\t33\\t239.554\\t97\\...                                                                                                                                                                                                                                                                      \n",
       "1  36\\t0\\t7\\t3\\t1\\t118\\t13\\t18\\t50\\t239.554\\t97\\t...                                                                                                                                                                                                                                                                      \n",
       "2  3\\t23\\t7\\t4\\t1\\t179\\t51\\t18\\t38\\t239.554\\t97\\t...                                                                                                                                                                                                                                                                      \n",
       "3  7\\t7\\t7\\t5\\t1\\t279\\t5\\t14\\t39\\t239.554\\t97\\t0\\...                                                                                                                                                                                                                                                                      \n",
       "4  11\\t23\\t7\\t5\\t1\\t289\\t36\\t13\\t33\\t239.554\\t97\\...                                                                                                                                                                                                                                                                      "
      ]
     },
     "execution_count": 5,
     "metadata": {},
     "output_type": "execute_result"
    }
   ],
   "source": [
    "df.head()"
   ]
  },
  {
   "cell_type": "code",
   "execution_count": 8,
   "id": "49a37945",
   "metadata": {},
   "outputs": [
    {
     "data": {
      "text/plain": [
       "Index(['ID\\tReason for absence\\tMonth of absence\\tDay of the week\\tSeasons\\tTransportation expense\\tDistance from Residence to Work\\tService time\\tAge\\tWork load Average/day \\tHit target\\tDisciplinary failure\\tEducation\\tSon\\tSocial drinker\\tSocial smoker\\tPet\\tWeight\\tHeight\\tBody mass index\\tAbsenteeism time in hours'], dtype='object')"
      ]
     },
     "execution_count": 8,
     "metadata": {},
     "output_type": "execute_result"
    }
   ],
   "source": [
    "df.columns"
   ]
  },
  {
   "cell_type": "code",
   "execution_count": 12,
   "id": "55b70f01",
   "metadata": {},
   "outputs": [
    {
     "ename": "NameError",
     "evalue": "name 'tDay_of_the_week' is not defined",
     "output_type": "error",
     "traceback": [
      "\u001b[0;31m---------------------------------------------------------------------------\u001b[0m",
      "\u001b[0;31mNameError\u001b[0m                                 Traceback (most recent call last)",
      "\u001b[0;32m/var/folders/9d/zv__gqwn6xz7fryp7wthzssm0000gn/T/ipykernel_71237/303602537.py\u001b[0m in \u001b[0;36m<module>\u001b[0;34m\u001b[0m\n\u001b[0;32m----> 1\u001b[0;31m pearsonr(df[tDay_of_the_week],\n\u001b[0m\u001b[1;32m      2\u001b[0m         df[Reason_for_absence])\n",
      "\u001b[0;31mNameError\u001b[0m: name 'tDay_of_the_week' is not defined"
     ]
    }
   ],
   "source": [
    "pearsonr(df[tDay_of_the_week],\n",
    "        df[Reason_for_absence])"
   ]
  },
  {
   "cell_type": "code",
   "execution_count": null,
   "id": "33bb9d10",
   "metadata": {},
   "outputs": [],
   "source": []
  }
 ],
 "metadata": {
  "kernelspec": {
   "display_name": "Python 3 (ipykernel)",
   "language": "python",
   "name": "python3"
  },
  "language_info": {
   "codemirror_mode": {
    "name": "ipython",
    "version": 3
   },
   "file_extension": ".py",
   "mimetype": "text/x-python",
   "name": "python",
   "nbconvert_exporter": "python",
   "pygments_lexer": "ipython3",
   "version": "3.9.7"
  }
 },
 "nbformat": 4,
 "nbformat_minor": 5
}
